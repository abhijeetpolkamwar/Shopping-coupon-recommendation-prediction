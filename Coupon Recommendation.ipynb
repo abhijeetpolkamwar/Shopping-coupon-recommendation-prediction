{
 "cells": [
  {
   "cell_type": "code",
   "execution_count": 1,
   "id": "dbdb961d",
   "metadata": {},
   "outputs": [
    {
     "data": {
      "text/plain": [
       "0.7576354679802956"
      ]
     },
     "execution_count": 1,
     "metadata": {},
     "output_type": "execute_result"
    }
   ],
   "source": [
    "import pandas as pd\n",
    "import numpy as np\n",
    "import matplotlib.pyplot as plt\n",
    "import seaborn as sns\n",
    "from sklearn.metrics import confusion_matrix, classification_report,accuracy_score\n",
    "\n",
    "df = pd.read_csv('train.csv')\n",
    "\n",
    "df.drop('car',axis=1,inplace=True)\n",
    "df.drop('customer_id',axis=1,inplace=True)\n",
    "\n",
    "#Imputing missing values with mode\n",
    "\n",
    "df['Bar'].fillna(value=df['Bar'].mode())\n",
    "df['CoffeeHouse'].fillna(value=df['CoffeeHouse'].mode())\n",
    "df['CarryAway'].fillna(value=df['CarryAway'].mode())\n",
    "df['RestaurantLessThan20'].fillna(value=df['RestaurantLessThan20'].mode())\n",
    "df['Restaurant20To50'].fillna(value=df['Restaurant20To50'].mode())\n",
    "\n",
    "'''''\n",
    "#Binning 'education column'\n",
    "mapping = {\n",
    "    r'Some High School|High School Graduate': '0',\n",
    "    r'Associates degree|Graduate degree (Masters or Doctorate)': '1',\n",
    "    r'Some college - no degree': '2',\n",
    "    r'Bachelors degree': '3'\n",
    "}\n",
    "df['education'] = df['education'].replace(mapping, regex=True)\n",
    "'''''\n",
    "'''''\n",
    "#OCCUPATION BINNING\n",
    "\n",
    "mapping_occ = {\n",
    "    r'Farming Fishing & Forestry|Building & Grounds Cleaning & Maintenance|Production Occupations': '0',\n",
    "    r'Installation Maintenance & Repair|Construction & Extraction|Protective Service|Personal Care & Service|Architecture & Engineering|Life Physical Social Science|Transportation & Material Moving|Legal|Healthcare Support|Community & Social Services': '0',\n",
    "    r'Healthcare Practitioners & Technical|Food Preparation & Serving Related': '0',\n",
    "    r'Retired': '1',\n",
    "    r'Business & Financial': '2',\n",
    "    r'Office & Administrative Support': '3',\n",
    "    r'Arts Design Entertainment Sports & Media': '4',\n",
    "    r'Management': '5',\n",
    "    r'Education&Training&Library': '6',\n",
    "    r'Sales & Related': '7',\n",
    "    r'Student': '8',\n",
    "    r'Unemployed': '9'\n",
    "}\n",
    "\n",
    "df['occupation'] = df['occupation'].replace(mapping_occ, regex=True)\n",
    "'''''\n",
    "df1 = pd.get_dummies(df)\n",
    "\n",
    "X = df1.drop('Y',axis=1)\n",
    "y = df1['Y']\n",
    "\n",
    "from sklearn.model_selection import train_test_split\n",
    "X_train,X_test,y_train,y_test = train_test_split(X,y,test_size=0.2,random_state=0)\n",
    "\n",
    "from sklearn.ensemble import RandomForestClassifier\n",
    "rfc = RandomForestClassifier(n_estimators=380,random_state=0)\n",
    "rfc.fit(X_train,y_train)\n",
    "pred1 = rfc.predict(X_test)\n",
    "\n",
    "acc_score1 = accuracy_score(y_test,pred1)\n",
    "\n",
    "acc_score1"
   ]
  },
  {
   "cell_type": "code",
   "execution_count": null,
   "id": "6f493422",
   "metadata": {},
   "outputs": [],
   "source": []
  },
  {
   "cell_type": "code",
   "execution_count": null,
   "id": "1f50347b",
   "metadata": {},
   "outputs": [],
   "source": []
  },
  {
   "cell_type": "code",
   "execution_count": null,
   "id": "262c1a8d",
   "metadata": {},
   "outputs": [],
   "source": []
  },
  {
   "cell_type": "code",
   "execution_count": null,
   "id": "ecc2c852",
   "metadata": {},
   "outputs": [],
   "source": []
  }
 ],
 "metadata": {
  "kernelspec": {
   "display_name": "Python 3 (ipykernel)",
   "language": "python",
   "name": "python3"
  },
  "language_info": {
   "codemirror_mode": {
    "name": "ipython",
    "version": 3
   },
   "file_extension": ".py",
   "mimetype": "text/x-python",
   "name": "python",
   "nbconvert_exporter": "python",
   "pygments_lexer": "ipython3",
   "version": "3.9.13"
  }
 },
 "nbformat": 4,
 "nbformat_minor": 5
}
